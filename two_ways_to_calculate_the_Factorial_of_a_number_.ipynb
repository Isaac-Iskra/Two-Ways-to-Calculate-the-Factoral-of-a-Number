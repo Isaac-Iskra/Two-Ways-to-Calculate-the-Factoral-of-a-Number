{
  "nbformat": 4,
  "nbformat_minor": 0,
  "metadata": {
    "colab": {
      "provenance": [],
      "collapsed_sections": []
    },
    "kernelspec": {
      "name": "python3",
      "display_name": "Python 3"
    },
    "language_info": {
      "name": "python"
    }
  },
  "cells": [
    {
      "cell_type": "code",
      "execution_count": null,
      "metadata": {
        "id": "JkWuiOVmHrmH"
      },
      "outputs": [],
      "source": [
        "#We're going to look at two ways to calculate the Factorial of a number. "
      ]
    },
    {
      "cell_type": "code",
      "source": [
        "#Method 1\n",
        "\n",
        "def iterative_factorial(n):\n",
        "  fact = 1\n",
        "  for i in range(2, n + 1):\n",
        "    fact *= i\n",
        "    return fact\n",
        "print(iterative_factorial(4))"
      ],
      "metadata": {
        "id": "9YJDevIUHydC"
      },
      "execution_count": null,
      "outputs": []
    },
    {
      "cell_type": "code",
      "source": [
        "#Method #2\n",
        "\n",
        "def recur_factorial(n):\n",
        "  if n==1:\n",
        "    return n\n",
        "  else:\n",
        "    temp = recur_factorial(n-1)\n",
        "    temp = temp * n\n",
        "  return temp\n",
        "\n",
        "print(recur_factorial(6))"
      ],
      "metadata": {
        "id": "IDzDvE80H1aC"
      },
      "execution_count": null,
      "outputs": []
    }
  ]
}